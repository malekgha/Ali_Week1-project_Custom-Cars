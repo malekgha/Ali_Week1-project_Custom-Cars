{
  "nbformat": 4,
  "nbformat_minor": 0,
  "metadata": {
    "colab": {
      "provenance": [],
      "include_colab_link": true
    },
    "kernelspec": {
      "name": "python3",
      "display_name": "Python 3"
    }
  },
  "cells": [
    {
      "cell_type": "markdown",
      "metadata": {
        "id": "view-in-github",
        "colab_type": "text"
      },
      "source": [
        "<a href=\"https://colab.research.google.com/github/malekgha/Ali_Week1-project_Custom-Cars/blob/main/AliCopy_of_Alternate_08_(Week_8)_Project_Data_Collection_with_Python.ipynb\" target=\"_parent\"><img src=\"https://colab.research.google.com/assets/colab-badge.svg\" alt=\"Open In Colab\"/></a>"
      ]
    },
    {
      "cell_type": "markdown",
      "metadata": {
        "id": "S4QFU3e98VA9"
      },
      "source": [
        "# <font color=\"orange\"> Project: Data Collection using the Python `requests` Library </font>\n",
        "\n",
        "This project has these goals: Understand how to programmatically access JSON API data and manipulate the resulting Python data.\n",
        "\n",
        "What you should know following this project:\n",
        "- Recognize JSON.\n",
        "- Practice reading API documentation and API usage.\n",
        "- Know how to use the `requests` module and `get()` and `json()` methods to access API data and convert that JSON data to Python objects.\n",
        "- Understand the concept of different API endpoints within the same overall API.\n",
        "- Learn a new API and study the data that is returned.\n",
        "\n",
        "If you feel comfortable accessing API data in JSON format via Python and manipulating the resulting Python data structures, then you have made great strides in this class.\n"
      ]
    },
    {
      "cell_type": "markdown",
      "metadata": {
        "id": "rH6sfjqd6buo"
      },
      "source": [
        "## Part I - Apply the `requests` module to the Dog API\n",
        "\n",
        "### Part I A\n",
        "- Last week we investigated and used the Dog API\n",
        "  - https://dog.ceo/dog-api/documentation/\n",
        "\n",
        "- Use the `requests` module and the `get` method to invoke the **list all dog breeds** API endpoint.\n",
        "- Use the `json()` method to convert the returned JSON data to Python data.\n",
        "- List all the `key/value` pairs that are in the resulting Python dictionary.\n",
        "- Capture the data that is the value of the `message` key in a variable called `breeds`.\n",
        "  - What datatype is `breeds`?  Display the datatype using the `type()` function.\n",
        "\n",
        "- Now we want to **count** the number of **dog breeds** (not including sub-breeds) in the `breeds` dictionary.\n",
        "  - What determines the number of breeds?  What function do you apply to `breeds` to display the **count**?\n",
        "  - Finally, use the `keys` function to capture the dog breeds in a list.  Display that resulting list.\n",
        "\n",
        "### Part I B\n",
        "- Use a second code cell to solve this.\n",
        "- Read the documentation and use your browser to get the correct API call required to:\n",
        "  - Return 5 random images of Mountain dogs.\n",
        "  - Now modify that URL to return 5 random images of a  Swiss Mountain dog.\n",
        "  - **NOTE:** If you struggle to find the appropriate API, please ask an instructor for the proper URL.\n",
        "- Now use Python to make the API call that returns the 5 random images of a Swiss Mountain dog.\n",
        "- Capture the 5 image URLs in a Python list.\n",
        "- Use a `for loop` to display the list of 5 image URLs.\n",
        "- Click on a few of the links to see the images of the Swiss Mountain dog breed.\n",
        "\n",
        "### Part I C (Optional, after you complete Parts II and III)\n",
        "\n",
        "- Use a third code cell for this.\n",
        "- Can you modify the above output to make it interactive?\n",
        "  - Ask the user for a dog breed.\n",
        "  - Make the appropriate API call in the `requests.get` method.  **Hint** Pass an **f-string** to `requests.get`. The `breed` portion of the URL will be variable.\n",
        "  - Display only the 5 random image URLs of the user's dog selection."
      ]
    },
    {
      "cell_type": "code",
      "source": [
        "## Part IA\n",
        "\n",
        "import requests\n",
        "\n",
        "# Define the API URL\n",
        "myURL = \"https://dog.ceo/api/breeds/list/all\"\n",
        "# Invoke the HTTP call and retrieve the returned JSON data\n",
        "responseData = requests.get(myURL)\n",
        "# and build a Python Dictionary\n",
        "pythonData = responseData.json()\n",
        "\n",
        "#capture the value of the message key\n",
        "breeds = pythonData[\"message\"]\n",
        "print(f\"breeds is a {type(breeds)}\")\n",
        "# the number of dog's breeds\n",
        "print(len(breeds))\n",
        "\n",
        "for k, v in pythonData.items():\n",
        "  print(f'{k} : {v}')\n"
      ],
      "metadata": {
        "id": "AtwR8HLdBa35",
        "colab": {
          "base_uri": "https://localhost:8080/"
        },
        "outputId": "d78aef78-16bd-4f59-c45d-65b9069257a2"
      },
      "execution_count": null,
      "outputs": [
        {
          "output_type": "stream",
          "name": "stdout",
          "text": [
            "breeds is a <class 'dict'>\n",
            "98\n",
            "message : {'affenpinscher': [], 'african': [], 'airedale': [], 'akita': [], 'appenzeller': [], 'australian': ['shepherd'], 'basenji': [], 'beagle': [], 'bluetick': [], 'borzoi': [], 'bouvier': [], 'boxer': [], 'brabancon': [], 'briard': [], 'buhund': ['norwegian'], 'bulldog': ['boston', 'english', 'french'], 'bullterrier': ['staffordshire'], 'cattledog': ['australian'], 'chihuahua': [], 'chow': [], 'clumber': [], 'cockapoo': [], 'collie': ['border'], 'coonhound': [], 'corgi': ['cardigan'], 'cotondetulear': [], 'dachshund': [], 'dalmatian': [], 'dane': ['great'], 'deerhound': ['scottish'], 'dhole': [], 'dingo': [], 'doberman': [], 'elkhound': ['norwegian'], 'entlebucher': [], 'eskimo': [], 'finnish': ['lapphund'], 'frise': ['bichon'], 'germanshepherd': [], 'greyhound': ['italian'], 'groenendael': [], 'havanese': [], 'hound': ['afghan', 'basset', 'blood', 'english', 'ibizan', 'plott', 'walker'], 'husky': [], 'keeshond': [], 'kelpie': [], 'komondor': [], 'kuvasz': [], 'labradoodle': [], 'labrador': [], 'leonberg': [], 'lhasa': [], 'malamute': [], 'malinois': [], 'maltese': [], 'mastiff': ['bull', 'english', 'tibetan'], 'mexicanhairless': [], 'mix': [], 'mountain': ['bernese', 'swiss'], 'newfoundland': [], 'otterhound': [], 'ovcharka': ['caucasian'], 'papillon': [], 'pekinese': [], 'pembroke': [], 'pinscher': ['miniature'], 'pitbull': [], 'pointer': ['german', 'germanlonghair'], 'pomeranian': [], 'poodle': ['medium', 'miniature', 'standard', 'toy'], 'pug': [], 'puggle': [], 'pyrenees': [], 'redbone': [], 'retriever': ['chesapeake', 'curly', 'flatcoated', 'golden'], 'ridgeback': ['rhodesian'], 'rottweiler': [], 'saluki': [], 'samoyed': [], 'schipperke': [], 'schnauzer': ['giant', 'miniature'], 'segugio': ['italian'], 'setter': ['english', 'gordon', 'irish'], 'sharpei': [], 'sheepdog': ['english', 'shetland'], 'shiba': [], 'shihtzu': [], 'spaniel': ['blenheim', 'brittany', 'cocker', 'irish', 'japanese', 'sussex', 'welsh'], 'spitz': ['japanese'], 'springer': ['english'], 'stbernard': [], 'terrier': ['american', 'australian', 'bedlington', 'border', 'cairn', 'dandie', 'fox', 'irish', 'kerryblue', 'lakeland', 'norfolk', 'norwich', 'patterdale', 'russell', 'scottish', 'sealyham', 'silky', 'tibetan', 'toy', 'welsh', 'westhighland', 'wheaten', 'yorkshire'], 'tervuren': [], 'vizsla': [], 'waterdog': ['spanish'], 'weimaraner': [], 'whippet': [], 'wolfhound': ['irish']}\n",
            "status : success\n"
          ]
        }
      ]
    },
    {
      "cell_type": "code",
      "source": [
        "## Part IB\n",
        "\n",
        "import requests\n",
        "\n",
        "# Define the API URL\n",
        "myURL = \"https://dog.ceo/api/breed/mountain/images/random/5\"\n",
        "\n",
        "# Invoke the HTTP call and retrieve the returned JSON data\n",
        "responseData = requests.get(myURL)\n",
        "#build a python dictionary\n",
        "pythonData = responseData.json()\n",
        "\n",
        "\n",
        "for k, v in pythonData.items():\n",
        "  print(f'{k} : {v}')\n",
        "\n"
      ],
      "metadata": {
        "id": "3ZdWTo-RinER",
        "colab": {
          "base_uri": "https://localhost:8080/"
        },
        "outputId": "57e9c950-8f18-48a4-e419-7dc731520775"
      },
      "execution_count": null,
      "outputs": [
        {
          "output_type": "stream",
          "name": "stdout",
          "text": [
            "message : ['https://images.dog.ceo/breeds/mountain-bernese/n02107683_2277.jpg', 'https://images.dog.ceo/breeds/mountain-bernese/n02107683_4260.jpg', 'https://images.dog.ceo/breeds/mountain-bernese/n02107683_5018.jpg', 'https://images.dog.ceo/breeds/mountain-swiss/n02107574_1077.jpg', 'https://images.dog.ceo/breeds/mountain-swiss/n02107574_976.jpg']\n",
            "status : success\n"
          ]
        }
      ]
    },
    {
      "cell_type": "code",
      "source": [
        "## Part IB_ Continue\n",
        "\n",
        "\n",
        "import requests\n",
        "\n",
        "# Define the API URL\n",
        "myURL = \"https://dog.ceo/api/breed/mountain/swiss/images/random/5\"\n",
        "\n",
        "# Invoke the HTTP call and retrieve the returned JSON data\n",
        "responseData = requests.get(myURL)\n",
        "#build a python dictionary\n",
        "pythonData = responseData.json()\n",
        "\n",
        "#capture image URLS in a List\n",
        "\n",
        "imageUrls = pythonData[\"message\"]\n",
        "\n",
        "for image in imageUrls:\n",
        "  print(image)\n",
        "\n",
        "\n",
        "for k, v in pythonData.items():\n",
        "  print(f'{k} : {v}')"
      ],
      "metadata": {
        "colab": {
          "base_uri": "https://localhost:8080/"
        },
        "id": "ruVqFS6VCYAO",
        "outputId": "28de3279-a3ae-4e36-fa56-44f0f46af900"
      },
      "execution_count": null,
      "outputs": [
        {
          "output_type": "stream",
          "name": "stdout",
          "text": [
            "https://images.dog.ceo/breeds/mountain-swiss/n02107574_1467.jpg\n",
            "https://images.dog.ceo/breeds/mountain-swiss/n02107574_2352.jpg\n",
            "https://images.dog.ceo/breeds/mountain-swiss/n02107574_2579.jpg\n",
            "https://images.dog.ceo/breeds/mountain-swiss/n02107574_750.jpg\n",
            "https://images.dog.ceo/breeds/mountain-swiss/n02107574_778.jpg\n",
            "message : ['https://images.dog.ceo/breeds/mountain-swiss/n02107574_1467.jpg', 'https://images.dog.ceo/breeds/mountain-swiss/n02107574_2352.jpg', 'https://images.dog.ceo/breeds/mountain-swiss/n02107574_2579.jpg', 'https://images.dog.ceo/breeds/mountain-swiss/n02107574_750.jpg', 'https://images.dog.ceo/breeds/mountain-swiss/n02107574_778.jpg']\n",
            "status : success\n"
          ]
        }
      ]
    },
    {
      "cell_type": "code",
      "source": [
        "## Part IC\n",
        "\n",
        "import requests\n",
        "\n",
        "breed = input(\"Please enter a dog breed: \")\n",
        "\n",
        "# Invoke the HTTP call and retrieve the returned JSON data\n",
        "responseData = requests.get(f\"https://dog.ceo/api/{breed}/images/random/5\")\n",
        "# and build a Python Dictionary \n",
        "pythonData = responseData.json()\n",
        "\n",
        "\n",
        "#capture image URLS in a List\n",
        "\n",
        "imageUrls = pythonData[\"message\"]\n",
        "\n",
        "for image in imageUrls:\n",
        "  print(image)\n",
        "\n",
        "\n",
        "for k, v in pythonData.items():\n",
        "  print(f'{k} : {v}')"
      ],
      "metadata": {
        "id": "aJ4_dBh0kqnS"
      },
      "execution_count": null,
      "outputs": []
    },
    {
      "cell_type": "markdown",
      "metadata": {
        "id": "og9EPv0PpxHN"
      },
      "source": [
        "# Part II - Working with The Movie Database (a new API)\n",
        "\n",
        "### Part II A\n",
        "- Here is the documentation for (yet another) Movie API, called `The Movie Database (TMDB)`.  It's a much richer API than `OMDb`.  You may peruse the API here (though you won't need to in order to complete this part of the Project).\n",
        " - https://www.themoviedb.org/documentation/api\n",
        "- You should use this API key:   \n",
        " - `3807fe2c3604c1b8a32cfd71949a4846`\n",
        "- Use your browser to test this **movie search API endpoint** and test in your browser\n",
        "```\n",
        "https://api.themoviedb.org/3/search/movie?api_key=3807fe2c3604c1b8a32cfd71949a4846&query=skyfall\n",
        "```\n",
        " - Now use the Python `requests` module to make the API call and display the entire `pyData` dictionary.\n",
        " - Notice that most of the data returned is in a JSON array associated with the `results` key.\n",
        " - Use `movielist = pyData[\"results\"]` to get that array.  You can display the contents of `movielist` if you'd like.\n",
        " - Finally, display the value of the `id` key in `movielist[0]`.  **Hint: The value should be `37724`**.\n",
        "<br><br>\n",
        "\n",
        "### Part II B\n",
        "\n",
        "- In another code cell, you can copy/paste your code above and make appropriate modifications.\n",
        "- Use `requests.get()` and the `json()` method to get the data from this endpoint using the `id` from Skyfall:\n",
        "```\n",
        "https://api.themoviedb.org/3/movie/{id}?api_key=THEAPIKEYABOVE\n",
        "```\n",
        "- You might consider, again, using your browser to look at the JSON data returned.\n",
        "- Your output should look like this:\n",
        "```\n",
        "Attributes of Skyfall:\n",
        "Revenue: 1108569499\n",
        "Tagline: Think on your sins.\n",
        "Release Date: 2012-10-25\n",
        "```\n",
        "- Finally, replace `37724` in the API call with `630` and run again. "
      ]
    },
    {
      "cell_type": "code",
      "source": [
        "## Part II A\n",
        "import requests\n",
        "\n",
        "# Define the API URL\n",
        "tmdbURL = \"https://api.themoviedb.org/3/search/movie?api_key=3807fe2c3604c1b8a32cfd71949a4846&query=skyfall\"\n",
        "\n",
        "\n",
        "# Invoke the HTTP call and retrieve the returned JSON data\n",
        "responseData = requests.get(tmdbURL)\n",
        "#build a python dictionary\n",
        "pythonData = responseData.json()\n",
        "\n",
        "movielist = pythonData[\"results\"]\n",
        "\n",
        "id_M  = movielist[0]\n",
        "\n",
        "id_Final = id_M[\"id\"]\n",
        "\n",
        "for k, v in pythonData.items():\n",
        "  print(f'{k} : {v}')\n",
        "print(movielist)\n",
        "#print(movielist[0])\n",
        "print(id_Final)"
      ],
      "metadata": {
        "id": "s8MF6JcnjDJs",
        "colab": {
          "base_uri": "https://localhost:8080/"
        },
        "outputId": "cd4a6d29-dea1-45e5-a899-35291dc31aed"
      },
      "execution_count": 53,
      "outputs": [
        {
          "output_type": "stream",
          "name": "stdout",
          "text": [
            "page : 1\n",
            "results : [{'adult': False, 'backdrop_path': '/hoQhlAskVNgLQhArnH7reWP4pUp.jpg', 'genre_ids': [28, 12, 53], 'id': 37724, 'original_language': 'en', 'original_title': 'Skyfall', 'overview': \"When Bond's latest assignment goes gravely wrong, agents around the world are exposed and MI6 headquarters is attacked. While M faces challenges to her authority and position from Gareth Mallory, the new Chairman of the Intelligence and Security Committee, it's up to Bond, aided only by field agent Eve, to locate the mastermind behind the attack.\", 'popularity': 41.868, 'poster_path': '/d0IVecFQvsGdSbnMAHqiYsNYaJT.jpg', 'release_date': '2012-10-24', 'title': 'Skyfall', 'video': False, 'vote_average': 7.221, 'vote_count': 14175}, {'adult': False, 'backdrop_path': None, 'genre_ids': [], 'id': 372241, 'original_language': 'de', 'original_title': 'Skyfall - Der moderne Bond', 'overview': '', 'popularity': 0.661, 'poster_path': None, 'release_date': '', 'title': 'Skyfall - Der moderne Bond', 'video': False, 'vote_average': 8.0, 'vote_count': 1}, {'adult': False, 'backdrop_path': None, 'genre_ids': [], 'id': 372242, 'original_language': 'de', 'original_title': 'Skyfall - Hinter den Kulissen', 'overview': '', 'popularity': 1.126, 'poster_path': None, 'release_date': '', 'title': 'Skyfall - Hinter den Kulissen', 'video': False, 'vote_average': 0.0, 'vote_count': 0}, {'adult': False, 'backdrop_path': None, 'genre_ids': [], 'id': 841798, 'original_language': 'en', 'original_title': 'Skyfall Premiere', 'overview': 'This short takes us to the red carpet and throws out quick thoughts from Harris, Craig, Mendes, Logan, Powell, Fiennes, Wilson, Bardem, Marlohe, Whishaw, and costume designer Jany Temime.', 'popularity': 0.6, 'poster_path': '/caklE0XuAP8drx5Twzz59WRy6bd.jpg', 'release_date': '2013-02-12', 'title': 'Skyfall Premiere', 'video': False, 'vote_average': 0.0, 'vote_count': 0}]\n",
            "total_pages : 1\n",
            "total_results : 4\n",
            "[{'adult': False, 'backdrop_path': '/hoQhlAskVNgLQhArnH7reWP4pUp.jpg', 'genre_ids': [28, 12, 53], 'id': 37724, 'original_language': 'en', 'original_title': 'Skyfall', 'overview': \"When Bond's latest assignment goes gravely wrong, agents around the world are exposed and MI6 headquarters is attacked. While M faces challenges to her authority and position from Gareth Mallory, the new Chairman of the Intelligence and Security Committee, it's up to Bond, aided only by field agent Eve, to locate the mastermind behind the attack.\", 'popularity': 41.868, 'poster_path': '/d0IVecFQvsGdSbnMAHqiYsNYaJT.jpg', 'release_date': '2012-10-24', 'title': 'Skyfall', 'video': False, 'vote_average': 7.221, 'vote_count': 14175}, {'adult': False, 'backdrop_path': None, 'genre_ids': [], 'id': 372241, 'original_language': 'de', 'original_title': 'Skyfall - Der moderne Bond', 'overview': '', 'popularity': 0.661, 'poster_path': None, 'release_date': '', 'title': 'Skyfall - Der moderne Bond', 'video': False, 'vote_average': 8.0, 'vote_count': 1}, {'adult': False, 'backdrop_path': None, 'genre_ids': [], 'id': 372242, 'original_language': 'de', 'original_title': 'Skyfall - Hinter den Kulissen', 'overview': '', 'popularity': 1.126, 'poster_path': None, 'release_date': '', 'title': 'Skyfall - Hinter den Kulissen', 'video': False, 'vote_average': 0.0, 'vote_count': 0}, {'adult': False, 'backdrop_path': None, 'genre_ids': [], 'id': 841798, 'original_language': 'en', 'original_title': 'Skyfall Premiere', 'overview': 'This short takes us to the red carpet and throws out quick thoughts from Harris, Craig, Mendes, Logan, Powell, Fiennes, Wilson, Bardem, Marlohe, Whishaw, and costume designer Jany Temime.', 'popularity': 0.6, 'poster_path': '/caklE0XuAP8drx5Twzz59WRy6bd.jpg', 'release_date': '2013-02-12', 'title': 'Skyfall Premiere', 'video': False, 'vote_average': 0.0, 'vote_count': 0}]\n",
            "37724\n"
          ]
        }
      ]
    },
    {
      "cell_type": "code",
      "source": [
        "## Part II B\n",
        "\n",
        "import requests\n",
        "\n",
        "# Define the API URL\n",
        "tmdbURL = \"https://api.themoviedb.org/3/movie/37724?api_key=3807fe2c3604c1b8a32cfd71949a4846\"\n",
        "\n",
        "# Invoke the HTTP call and retrieve the returned JSON data\n",
        "responseData = requests.get(tmdbURL)\n",
        "#build a python dictionary\n",
        "pythonData = responseData.json()\n",
        "\n",
        "print(\"Attributes of skyfall:\")\n",
        "print(f'Revenue: {pythonData[\"revenue\"]}')\n",
        "print(f'Tagline: {pythonData[\"tagline\"]}')\n",
        "print(f'Release Date: {pythonData[\"release_date\"]}')\n"
      ],
      "metadata": {
        "id": "MUSQS07QkvmV",
        "colab": {
          "base_uri": "https://localhost:8080/"
        },
        "outputId": "a7263a41-1a7b-48b6-c72e-0e27b1d699a7"
      },
      "execution_count": 72,
      "outputs": [
        {
          "output_type": "stream",
          "name": "stdout",
          "text": [
            "Attributes of skyfall:\n",
            "Revenue: 0\n",
            "Tagline: Think on your sins.\n",
            "Release Date: 2012-10-24\n"
          ]
        }
      ]
    },
    {
      "cell_type": "code",
      "source": [
        "## part II B _ Continue\n",
        "\n",
        "import requests\n",
        "\n",
        "# Define the API URL\n",
        "tmdbURL = \"https://api.themoviedb.org/3/movie/630?api_key=3807fe2c3604c1b8a32cfd71949a4846\"\n",
        "\n",
        "# Invoke the HTTP call and retrieve the returned JSON data\n",
        "responseData = requests.get(tmdbURL)\n",
        "#build a python dictionary\n",
        "pythonData = responseData.json()\n",
        "\n",
        "print(\"Attributes of skyfall:\")\n",
        "print(f'Revenue: {pythonData[\"revenue\"]}')\n",
        "print(f'Tagline: {pythonData[\"tagline\"]}')\n",
        "print(f'Release Date: {pythonData[\"release_date\"]}')\n"
      ],
      "metadata": {
        "colab": {
          "base_uri": "https://localhost:8080/"
        },
        "id": "AsSsxdjEysIr",
        "outputId": "48e425d5-cb18-474a-beb1-8efae46e12c4"
      },
      "execution_count": 73,
      "outputs": [
        {
          "output_type": "stream",
          "name": "stdout",
          "text": [
            "Attributes of skyfall:\n",
            "Revenue: 33754967\n",
            "Tagline: We're off to see the Wizard, the wonderful Wizard of Oz!\n",
            "Release Date: 1939-08-15\n"
          ]
        }
      ]
    },
    {
      "cell_type": "markdown",
      "metadata": {
        "id": "BMpoxdFFWfo5"
      },
      "source": [
        "# Part III - Performing a Calculation with the OMDb API\n",
        "\n",
        "### Part III A\n",
        "- Use the OMDb API and the Python `requests` module to display the keys for the movie `Moneyball`.\n",
        "\n",
        "### Part III B\n",
        "- Use the OMDb API and the Python `requests` module to display the keys for these 5 movies: `Moneyball`, `Avatar`, `Lincoln`, `Up`, `Toy Story`. \n",
        " - How will you store the 5 movie titles in Python?\n",
        "\n",
        "### Part III C\n",
        "- This time only display the value of the `BoxOffice` key for all the movies.\n",
        "\n",
        "### Part III D\n",
        "- What is the sum of the Box Office revenue of all 5 movies?\n",
        "  - Hints: Use the Python `replace()` string method. \n",
        "  - See this site for usage: https://www.w3schools.com/python/ref_string_replace.asp\n",
        "\n"
      ]
    },
    {
      "cell_type": "code",
      "source": [
        "## Part III A\n",
        "\n",
        "import requests\n",
        "# Build the query string as a python dictionary.\n",
        "movie = \"Moneyball\"\n",
        "myapikey = \"587032e4\"\n",
        "query_string = {\"apikey\": myapikey, \"t\": movie}\n",
        "apiURL = f\"https://www.omdbapi.com/\"\n",
        "\n",
        "# Use requests.get(), this time with the params parameter\n",
        "responseData = requests.get(apiURL, params=query_string)\n",
        "\n",
        "# build a Python Dictionary\n",
        "pythonData = responseData.json()\n",
        "\n",
        "for k, v in pythonData.items():\n",
        "  print(f'{k} : {v}')\n",
        "print()"
      ],
      "metadata": {
        "id": "uuPz98RvpI9Q",
        "colab": {
          "base_uri": "https://localhost:8080/"
        },
        "outputId": "bb72ba7a-3a38-4892-87f0-5b1fbc9027c8"
      },
      "execution_count": 1,
      "outputs": [
        {
          "output_type": "stream",
          "name": "stdout",
          "text": [
            "Title : Moneyball\n",
            "Year : 2011\n",
            "Rated : PG-13\n",
            "Released : 23 Sep 2011\n",
            "Runtime : 133 min\n",
            "Genre : Biography, Drama, Sport\n",
            "Director : Bennett Miller\n",
            "Writer : Steven Zaillian, Aaron Sorkin, Stan Chervin\n",
            "Actors : Brad Pitt, Robin Wright, Jonah Hill\n",
            "Plot : Oakland A's general manager Billy Beane's successful attempt to assemble a baseball team on a lean budget by employing computer-generated analysis to acquire new players.\n",
            "Language : English\n",
            "Country : United States\n",
            "Awards : Nominated for 6 Oscars. 29 wins & 82 nominations total\n",
            "Poster : https://m.media-amazon.com/images/M/MV5BMjAxOTU3Mzc1M15BMl5BanBnXkFtZTcwMzk1ODUzNg@@._V1_SX300.jpg\n",
            "Ratings : [{'Source': 'Internet Movie Database', 'Value': '7.6/10'}, {'Source': 'Metacritic', 'Value': '87/100'}]\n",
            "Metascore : 87\n",
            "imdbRating : 7.6\n",
            "imdbVotes : 434,322\n",
            "imdbID : tt1210166\n",
            "Type : movie\n",
            "DVD : 10 Jan 2012\n",
            "BoxOffice : $75,605,492\n",
            "Production : N/A\n",
            "Website : N/A\n",
            "Response : True\n",
            "\n"
          ]
        }
      ]
    },
    {
      "cell_type": "code",
      "source": [
        "## part III B\n",
        "\n",
        "import requests\n",
        "#create a list of movies\n",
        "movies = ['Moneyball', 'Avatar', 'Lincoln', 'Up', 'Toy Story']\n",
        "\n",
        "#iterate through the list\n",
        "for movie in movies:\n",
        "  # define a URL which the title of movie is changeable\n",
        "    url = f'http://www.omdbapi.com/?t={movie}&apikey=587032e4'\n",
        "    #use request.get()\n",
        "    response = requests.get(url)\n",
        "    # create a python dictionary\n",
        "    data = response.json()\n",
        "    print(data.keys()) \n",
        "    print(data)\n",
        "\n"
      ],
      "metadata": {
        "id": "_qnVfxhCPSx3",
        "colab": {
          "base_uri": "https://localhost:8080/"
        },
        "outputId": "545f081b-7780-4755-f608-75ee27757a2f"
      },
      "execution_count": 9,
      "outputs": [
        {
          "output_type": "stream",
          "name": "stdout",
          "text": [
            "dict_keys(['Title', 'Year', 'Rated', 'Released', 'Runtime', 'Genre', 'Director', 'Writer', 'Actors', 'Plot', 'Language', 'Country', 'Awards', 'Poster', 'Ratings', 'Metascore', 'imdbRating', 'imdbVotes', 'imdbID', 'Type', 'DVD', 'BoxOffice', 'Production', 'Website', 'Response'])\n",
            "{'Title': 'Moneyball', 'Year': '2011', 'Rated': 'PG-13', 'Released': '23 Sep 2011', 'Runtime': '133 min', 'Genre': 'Biography, Drama, Sport', 'Director': 'Bennett Miller', 'Writer': 'Steven Zaillian, Aaron Sorkin, Stan Chervin', 'Actors': 'Brad Pitt, Robin Wright, Jonah Hill', 'Plot': \"Oakland A's general manager Billy Beane's successful attempt to assemble a baseball team on a lean budget by employing computer-generated analysis to acquire new players.\", 'Language': 'English', 'Country': 'United States', 'Awards': 'Nominated for 6 Oscars. 29 wins & 82 nominations total', 'Poster': 'https://m.media-amazon.com/images/M/MV5BMjAxOTU3Mzc1M15BMl5BanBnXkFtZTcwMzk1ODUzNg@@._V1_SX300.jpg', 'Ratings': [{'Source': 'Internet Movie Database', 'Value': '7.6/10'}, {'Source': 'Metacritic', 'Value': '87/100'}], 'Metascore': '87', 'imdbRating': '7.6', 'imdbVotes': '434,322', 'imdbID': 'tt1210166', 'Type': 'movie', 'DVD': '10 Jan 2012', 'BoxOffice': '$75,605,492', 'Production': 'N/A', 'Website': 'N/A', 'Response': 'True'}\n",
            "dict_keys(['Title', 'Year', 'Rated', 'Released', 'Runtime', 'Genre', 'Director', 'Writer', 'Actors', 'Plot', 'Language', 'Country', 'Awards', 'Poster', 'Ratings', 'Metascore', 'imdbRating', 'imdbVotes', 'imdbID', 'Type', 'DVD', 'BoxOffice', 'Production', 'Website', 'Response'])\n",
            "{'Title': 'Avatar', 'Year': '2009', 'Rated': 'PG-13', 'Released': '18 Dec 2009', 'Runtime': '162 min', 'Genre': 'Action, Adventure, Fantasy', 'Director': 'James Cameron', 'Writer': 'James Cameron', 'Actors': 'Sam Worthington, Zoe Saldana, Sigourney Weaver', 'Plot': 'A paraplegic Marine dispatched to the moon Pandora on a unique mission becomes torn between following his orders and protecting the world he feels is his home.', 'Language': 'English, Spanish', 'Country': 'United States', 'Awards': 'Won 3 Oscars. 89 wins & 131 nominations total', 'Poster': 'https://m.media-amazon.com/images/M/MV5BZDA0OGQxNTItMDZkMC00N2UyLTg3MzMtYTJmNjg3Nzk5MzRiXkEyXkFqcGdeQXVyMjUzOTY1NTc@._V1_SX300.jpg', 'Ratings': [{'Source': 'Internet Movie Database', 'Value': '7.9/10'}, {'Source': 'Rotten Tomatoes', 'Value': '82%'}, {'Source': 'Metacritic', 'Value': '83/100'}], 'Metascore': '83', 'imdbRating': '7.9', 'imdbVotes': '1,332,344', 'imdbID': 'tt0499549', 'Type': 'movie', 'DVD': '22 Apr 2010', 'BoxOffice': '$785,221,649', 'Production': 'N/A', 'Website': 'N/A', 'Response': 'True'}\n",
            "dict_keys(['Title', 'Year', 'Rated', 'Released', 'Runtime', 'Genre', 'Director', 'Writer', 'Actors', 'Plot', 'Language', 'Country', 'Awards', 'Poster', 'Ratings', 'Metascore', 'imdbRating', 'imdbVotes', 'imdbID', 'Type', 'DVD', 'BoxOffice', 'Production', 'Website', 'Response'])\n",
            "{'Title': 'Lincoln', 'Year': '2012', 'Rated': 'PG-13', 'Released': '16 Nov 2012', 'Runtime': '150 min', 'Genre': 'Biography, Drama, History', 'Director': 'Steven Spielberg', 'Writer': 'Tony Kushner, Doris Kearns Goodwin', 'Actors': 'Daniel Day-Lewis, Sally Field, David Strathairn', 'Plot': \"As the American Civil War continues to rage, America's president struggles with continuing carnage on the battlefield as he fights with many inside his own cabinet on the decision to emancipate the slaves.\", 'Language': 'English', 'Country': 'United States, India', 'Awards': 'Won 2 Oscars. 107 wins & 252 nominations total', 'Poster': 'https://m.media-amazon.com/images/M/MV5BMTQzNzczMDUyNV5BMl5BanBnXkFtZTcwNjM2ODEzOA@@._V1_SX300.jpg', 'Ratings': [{'Source': 'Internet Movie Database', 'Value': '7.3/10'}, {'Source': 'Rotten Tomatoes', 'Value': '89%'}, {'Source': 'Metacritic', 'Value': '87/100'}], 'Metascore': '87', 'imdbRating': '7.3', 'imdbVotes': '264,304', 'imdbID': 'tt0443272', 'Type': 'movie', 'DVD': '26 Mar 2013', 'BoxOffice': '$182,207,973', 'Production': 'N/A', 'Website': 'N/A', 'Response': 'True'}\n",
            "dict_keys(['Title', 'Year', 'Rated', 'Released', 'Runtime', 'Genre', 'Director', 'Writer', 'Actors', 'Plot', 'Language', 'Country', 'Awards', 'Poster', 'Ratings', 'Metascore', 'imdbRating', 'imdbVotes', 'imdbID', 'Type', 'DVD', 'BoxOffice', 'Production', 'Website', 'Response'])\n",
            "{'Title': 'Up', 'Year': '2009', 'Rated': 'PG', 'Released': '29 May 2009', 'Runtime': '96 min', 'Genre': 'Animation, Adventure, Comedy', 'Director': 'Pete Docter, Bob Peterson', 'Writer': 'Pete Docter, Bob Peterson, Tom McCarthy', 'Actors': 'Edward Asner, Jordan Nagai, John Ratzenberger', 'Plot': '78-year-old Carl Fredricksen travels to Paradise Falls in his house equipped with balloons, inadvertently taking a young stowaway.', 'Language': 'English', 'Country': 'United States', 'Awards': 'Won 2 Oscars. 80 wins & 87 nominations total', 'Poster': 'https://m.media-amazon.com/images/M/MV5BYjBkM2RjMzItM2M3Ni00N2NjLWE3NzMtMGY4MzE4MDAzMTRiXkEyXkFqcGdeQXVyNDUzOTQ5MjY@._V1_SX300.jpg', 'Ratings': [{'Source': 'Internet Movie Database', 'Value': '8.3/10'}, {'Source': 'Rotten Tomatoes', 'Value': '98%'}, {'Source': 'Metacritic', 'Value': '88/100'}], 'Metascore': '88', 'imdbRating': '8.3', 'imdbVotes': '1,058,973', 'imdbID': 'tt1049413', 'Type': 'movie', 'DVD': '10 Nov 2009', 'BoxOffice': '$293,004,164', 'Production': 'N/A', 'Website': 'N/A', 'Response': 'True'}\n",
            "dict_keys(['Title', 'Year', 'Rated', 'Released', 'Runtime', 'Genre', 'Director', 'Writer', 'Actors', 'Plot', 'Language', 'Country', 'Awards', 'Poster', 'Ratings', 'Metascore', 'imdbRating', 'imdbVotes', 'imdbID', 'Type', 'DVD', 'BoxOffice', 'Production', 'Website', 'Response'])\n",
            "{'Title': 'Toy Story', 'Year': '1995', 'Rated': 'G', 'Released': '22 Nov 1995', 'Runtime': '81 min', 'Genre': 'Animation, Adventure, Comedy', 'Director': 'John Lasseter', 'Writer': 'John Lasseter, Pete Docter, Andrew Stanton', 'Actors': 'Tom Hanks, Tim Allen, Don Rickles', 'Plot': \"A cowboy doll is profoundly threatened and jealous when a new spaceman action figure supplants him as top toy in a boy's bedroom.\", 'Language': 'English', 'Country': 'United States, Japan', 'Awards': 'Nominated for 3 Oscars. 28 wins & 23 nominations total', 'Poster': 'https://m.media-amazon.com/images/M/MV5BMDU2ZWJlMjktMTRhMy00ZTA5LWEzNDgtYmNmZTEwZTViZWJkXkEyXkFqcGdeQXVyNDQ2OTk4MzI@._V1_SX300.jpg', 'Ratings': [{'Source': 'Internet Movie Database', 'Value': '8.3/10'}, {'Source': 'Rotten Tomatoes', 'Value': '100%'}, {'Source': 'Metacritic', 'Value': '96/100'}], 'Metascore': '96', 'imdbRating': '8.3', 'imdbVotes': '1,009,377', 'imdbID': 'tt0114709', 'Type': 'movie', 'DVD': '23 Mar 2010', 'BoxOffice': '$223,225,679', 'Production': 'N/A', 'Website': 'N/A', 'Response': 'True'}\n"
          ]
        }
      ]
    },
    {
      "cell_type": "code",
      "source": [
        "## part III C\n",
        "\n",
        "import requests\n",
        "#create a list of movies\n",
        "movies = ['Moneyball', 'Avatar', 'Lincoln', 'Up', 'Toy Story']\n",
        "\n",
        "#iterate through the list\n",
        "for movie in movies:\n",
        "  # define a URL which the title of movie is changeable\n",
        "    url = f'http://www.omdbapi.com/?t={movie}&apikey=587032e4'\n",
        "    #use request.get()\n",
        "    response = requests.get(url)\n",
        "    # create a python dictionary\n",
        "    data = response.json()\n",
        "\n",
        "\n",
        "    boxOffice = data[\"BoxOffice\"]\n",
        "\n",
        "\n",
        "for v in boxOffice:\n",
        "\n",
        " #print(f'{k} : {v}')\n",
        "  print(f'{\"BoxOffice\"} : {v}')\n",
        " \n",
        "  \n"
      ],
      "metadata": {
        "colab": {
          "base_uri": "https://localhost:8080/"
        },
        "id": "wmJN_Kwr4TAf",
        "outputId": "b6d1969a-b86a-4e49-e524-021b7cc6764f"
      },
      "execution_count": 41,
      "outputs": [
        {
          "output_type": "stream",
          "name": "stdout",
          "text": [
            "BoxOffice : $\n",
            "BoxOffice : 2\n",
            "BoxOffice : 2\n",
            "BoxOffice : 3\n",
            "BoxOffice : ,\n",
            "BoxOffice : 2\n",
            "BoxOffice : 2\n",
            "BoxOffice : 5\n",
            "BoxOffice : ,\n",
            "BoxOffice : 6\n",
            "BoxOffice : 7\n",
            "BoxOffice : 9\n"
          ]
        }
      ]
    },
    {
      "cell_type": "code",
      "source": [
        "## part III D\n",
        "\n",
        "\n",
        "import requests\n",
        "#create a list of movies\n",
        "movies = ['Moneyball', 'Avatar', 'Lincoln', 'Up', 'Toy Story']\n",
        "\n",
        "#iterate through the list\n",
        "for movie in movies:\n",
        "  # define a URL which the title of movie is changeable\n",
        "    url = f'http://www.omdbapi.com/?t={movie}&apikey=587032e4'\n",
        "    #use request.get()\n",
        "    response = requests.get(url)\n",
        "    # create a python dictionary\n",
        "    data = response.json()\n",
        "\n",
        "\n",
        "    boxOffice = data[\"BoxOffice\"]\n",
        "  \n",
        "\n",
        "for v in boxOffice:\n",
        " #print(f'{k} : {v}')\n",
        " print(f'BoxOffice : {v}')\n",
        "# print()\n"
      ],
      "metadata": {
        "colab": {
          "base_uri": "https://localhost:8080/"
        },
        "id": "xFeVxFu_WquK",
        "outputId": "6cb42f29-1def-4967-a7d2-cd68ad02a776"
      },
      "execution_count": 38,
      "outputs": [
        {
          "output_type": "stream",
          "name": "stdout",
          "text": [
            "BoxOffice : $\n",
            "BoxOffice : 2\n",
            "BoxOffice : 2\n",
            "BoxOffice : 3\n",
            "BoxOffice : ,\n",
            "BoxOffice : 2\n",
            "BoxOffice : 2\n",
            "BoxOffice : 5\n",
            "BoxOffice : ,\n",
            "BoxOffice : 6\n",
            "BoxOffice : 7\n",
            "BoxOffice : 9\n"
          ]
        }
      ]
    }
  ]
}